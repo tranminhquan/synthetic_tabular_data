{
 "cells": [
  {
   "cell_type": "markdown",
   "id": "86be29a3",
   "metadata": {},
   "source": [
    "# Fields constrain"
   ]
  },
  {
   "cell_type": "code",
   "execution_count": 1,
   "id": "1f2bd3ec",
   "metadata": {},
   "outputs": [],
   "source": [
    "import warnings\n",
    "warnings.filterwarnings('ignore')"
   ]
  },
  {
   "cell_type": "markdown",
   "id": "4f9392fe",
   "metadata": {},
   "source": [
    "## The problems\n",
    "A very common scenario that we face when working with tabular data is finding columns that have very particular relationships between them which are very hard to model and easily confuse the Tabular Models.\n",
    "\n",
    "Some simple examples of these scenarios include:\n",
    "- A table that has the columns `country` and `city`: In such scenario, it might be very hard to learn which `country` each `city` belongs to, and when sampling probabilistically, the model is likely to end up generating invalid `country`/`city` combinations.\n",
    "- A table that contains both the `ag`e and the `date of birth` of a user. The model will learn the `age` and `date of birth` distributions and mostly generate valid combinations, but in some cases it might end up giving back `ages` **that do not correspond to the** `given date of birth`.\n",
    "\n",
    "These kind of special relationships between columns are called Constraints.\n"
   ]
  },
  {
   "cell_type": "code",
   "execution_count": 2,
   "id": "4db78712",
   "metadata": {},
   "outputs": [
    {
     "data": {
      "text/html": [
       "<div>\n",
       "<style scoped>\n",
       "    .dataframe tbody tr th:only-of-type {\n",
       "        vertical-align: middle;\n",
       "    }\n",
       "\n",
       "    .dataframe tbody tr th {\n",
       "        vertical-align: top;\n",
       "    }\n",
       "\n",
       "    .dataframe thead th {\n",
       "        text-align: right;\n",
       "    }\n",
       "</style>\n",
       "<table border=\"1\" class=\"dataframe\">\n",
       "  <thead>\n",
       "    <tr style=\"text-align: right;\">\n",
       "      <th></th>\n",
       "      <th>company</th>\n",
       "      <th>department</th>\n",
       "      <th>employee_id</th>\n",
       "      <th>age</th>\n",
       "      <th>age_when_joined</th>\n",
       "      <th>years_in_the_company</th>\n",
       "      <th>salary</th>\n",
       "      <th>annual_bonus</th>\n",
       "      <th>prior_years_experience</th>\n",
       "      <th>full_time</th>\n",
       "      <th>part_time</th>\n",
       "      <th>contractor</th>\n",
       "    </tr>\n",
       "  </thead>\n",
       "  <tbody>\n",
       "    <tr>\n",
       "      <th>0</th>\n",
       "      <td>Pear</td>\n",
       "      <td>Sales</td>\n",
       "      <td>1</td>\n",
       "      <td>36</td>\n",
       "      <td>35</td>\n",
       "      <td>1</td>\n",
       "      <td>155000.00</td>\n",
       "      <td>22500.00</td>\n",
       "      <td>4</td>\n",
       "      <td>1.0</td>\n",
       "      <td>0.0</td>\n",
       "      <td>0.0</td>\n",
       "    </tr>\n",
       "    <tr>\n",
       "      <th>1</th>\n",
       "      <td>Pear</td>\n",
       "      <td>Design</td>\n",
       "      <td>5</td>\n",
       "      <td>37</td>\n",
       "      <td>31</td>\n",
       "      <td>6</td>\n",
       "      <td>44382.47</td>\n",
       "      <td>6490.34</td>\n",
       "      <td>5</td>\n",
       "      <td>0.0</td>\n",
       "      <td>0.0</td>\n",
       "      <td>1.0</td>\n",
       "    </tr>\n",
       "    <tr>\n",
       "      <th>2</th>\n",
       "      <td>Glasses</td>\n",
       "      <td>AI</td>\n",
       "      <td>1</td>\n",
       "      <td>45</td>\n",
       "      <td>43</td>\n",
       "      <td>2</td>\n",
       "      <td>134500.00</td>\n",
       "      <td>23500.00</td>\n",
       "      <td>4</td>\n",
       "      <td>1.0</td>\n",
       "      <td>0.0</td>\n",
       "      <td>0.0</td>\n",
       "    </tr>\n",
       "    <tr>\n",
       "      <th>3</th>\n",
       "      <td>Glasses</td>\n",
       "      <td>Search Engine</td>\n",
       "      <td>7</td>\n",
       "      <td>47</td>\n",
       "      <td>41</td>\n",
       "      <td>6</td>\n",
       "      <td>132573.15</td>\n",
       "      <td>18931.03</td>\n",
       "      <td>5</td>\n",
       "      <td>0.0</td>\n",
       "      <td>0.0</td>\n",
       "      <td>1.0</td>\n",
       "    </tr>\n",
       "    <tr>\n",
       "      <th>4</th>\n",
       "      <td>Cheerper</td>\n",
       "      <td>BigData</td>\n",
       "      <td>6</td>\n",
       "      <td>34</td>\n",
       "      <td>29</td>\n",
       "      <td>5</td>\n",
       "      <td>124000.00</td>\n",
       "      <td>6000.00</td>\n",
       "      <td>2</td>\n",
       "      <td>0.0</td>\n",
       "      <td>1.0</td>\n",
       "      <td>0.0</td>\n",
       "    </tr>\n",
       "    <tr>\n",
       "      <th>5</th>\n",
       "      <td>Cheerper</td>\n",
       "      <td>Support</td>\n",
       "      <td>11</td>\n",
       "      <td>33</td>\n",
       "      <td>26</td>\n",
       "      <td>7</td>\n",
       "      <td>56000.00</td>\n",
       "      <td>23500.00</td>\n",
       "      <td>2</td>\n",
       "      <td>0.0</td>\n",
       "      <td>1.0</td>\n",
       "      <td>0.0</td>\n",
       "    </tr>\n",
       "    <tr>\n",
       "      <th>6</th>\n",
       "      <td>Pear</td>\n",
       "      <td>Sales</td>\n",
       "      <td>28</td>\n",
       "      <td>43</td>\n",
       "      <td>39</td>\n",
       "      <td>4</td>\n",
       "      <td>98000.00</td>\n",
       "      <td>15000.00</td>\n",
       "      <td>3</td>\n",
       "      <td>1.0</td>\n",
       "      <td>0.0</td>\n",
       "      <td>0.0</td>\n",
       "    </tr>\n",
       "    <tr>\n",
       "      <th>7</th>\n",
       "      <td>Pear</td>\n",
       "      <td>Design</td>\n",
       "      <td>75</td>\n",
       "      <td>44</td>\n",
       "      <td>36</td>\n",
       "      <td>8</td>\n",
       "      <td>106133.97</td>\n",
       "      <td>17829.90</td>\n",
       "      <td>1</td>\n",
       "      <td>0.0</td>\n",
       "      <td>0.0</td>\n",
       "      <td>1.0</td>\n",
       "    </tr>\n",
       "    <tr>\n",
       "      <th>8</th>\n",
       "      <td>Glasses</td>\n",
       "      <td>AI</td>\n",
       "      <td>33</td>\n",
       "      <td>48</td>\n",
       "      <td>45</td>\n",
       "      <td>3</td>\n",
       "      <td>143500.00</td>\n",
       "      <td>8500.00</td>\n",
       "      <td>3</td>\n",
       "      <td>1.0</td>\n",
       "      <td>0.0</td>\n",
       "      <td>0.0</td>\n",
       "    </tr>\n",
       "    <tr>\n",
       "      <th>9</th>\n",
       "      <td>Glasses</td>\n",
       "      <td>Search Engine</td>\n",
       "      <td>56</td>\n",
       "      <td>43</td>\n",
       "      <td>37</td>\n",
       "      <td>6</td>\n",
       "      <td>147053.63</td>\n",
       "      <td>19963.93</td>\n",
       "      <td>4</td>\n",
       "      <td>0.0</td>\n",
       "      <td>0.0</td>\n",
       "      <td>1.0</td>\n",
       "    </tr>\n",
       "    <tr>\n",
       "      <th>10</th>\n",
       "      <td>Cheerper</td>\n",
       "      <td>BigData</td>\n",
       "      <td>42</td>\n",
       "      <td>36</td>\n",
       "      <td>28</td>\n",
       "      <td>8</td>\n",
       "      <td>134000.00</td>\n",
       "      <td>6500.00</td>\n",
       "      <td>4</td>\n",
       "      <td>0.0</td>\n",
       "      <td>1.0</td>\n",
       "      <td>0.0</td>\n",
       "    </tr>\n",
       "    <tr>\n",
       "      <th>11</th>\n",
       "      <td>Cheerper</td>\n",
       "      <td>Support</td>\n",
       "      <td>80</td>\n",
       "      <td>42</td>\n",
       "      <td>33</td>\n",
       "      <td>9</td>\n",
       "      <td>139500.00</td>\n",
       "      <td>18500.00</td>\n",
       "      <td>4</td>\n",
       "      <td>0.0</td>\n",
       "      <td>1.0</td>\n",
       "      <td>0.0</td>\n",
       "    </tr>\n",
       "  </tbody>\n",
       "</table>\n",
       "</div>"
      ],
      "text/plain": [
       "     company     department  employee_id  age  age_when_joined  \\\n",
       "0       Pear          Sales            1   36               35   \n",
       "1       Pear         Design            5   37               31   \n",
       "2    Glasses             AI            1   45               43   \n",
       "3    Glasses  Search Engine            7   47               41   \n",
       "4   Cheerper        BigData            6   34               29   \n",
       "5   Cheerper        Support           11   33               26   \n",
       "6       Pear          Sales           28   43               39   \n",
       "7       Pear         Design           75   44               36   \n",
       "8    Glasses             AI           33   48               45   \n",
       "9    Glasses  Search Engine           56   43               37   \n",
       "10  Cheerper        BigData           42   36               28   \n",
       "11  Cheerper        Support           80   42               33   \n",
       "\n",
       "    years_in_the_company     salary  annual_bonus  prior_years_experience  \\\n",
       "0                      1  155000.00      22500.00                       4   \n",
       "1                      6   44382.47       6490.34                       5   \n",
       "2                      2  134500.00      23500.00                       4   \n",
       "3                      6  132573.15      18931.03                       5   \n",
       "4                      5  124000.00       6000.00                       2   \n",
       "5                      7   56000.00      23500.00                       2   \n",
       "6                      4   98000.00      15000.00                       3   \n",
       "7                      8  106133.97      17829.90                       1   \n",
       "8                      3  143500.00       8500.00                       3   \n",
       "9                      6  147053.63      19963.93                       4   \n",
       "10                     8  134000.00       6500.00                       4   \n",
       "11                     9  139500.00      18500.00                       4   \n",
       "\n",
       "    full_time  part_time  contractor  \n",
       "0         1.0        0.0         0.0  \n",
       "1         0.0        0.0         1.0  \n",
       "2         1.0        0.0         0.0  \n",
       "3         0.0        0.0         1.0  \n",
       "4         0.0        1.0         0.0  \n",
       "5         0.0        1.0         0.0  \n",
       "6         1.0        0.0         0.0  \n",
       "7         0.0        0.0         1.0  \n",
       "8         1.0        0.0         0.0  \n",
       "9         0.0        0.0         1.0  \n",
       "10        0.0        1.0         0.0  \n",
       "11        0.0        1.0         0.0  "
      ]
     },
     "execution_count": 2,
     "metadata": {},
     "output_type": "execute_result"
    }
   ],
   "source": [
    "from sdv.demo import load_tabular_demo\n",
    "\n",
    "employees = load_tabular_demo()\n",
    "employees"
   ]
  },
  {
   "cell_type": "markdown",
   "id": "40a336ed",
   "metadata": {},
   "source": [
    "## How does SDV Handle Constraints?\n",
    "\n",
    "### Transform Strategy\n",
    "When using this strategy, SDV applies a transformation to the data before learning it in a way that allows the model to better capture the data properties. For example, if we have one column that needs to be always greater than the other one, SDV can do the following:\n",
    "- Replace the higher column with the difference between the two columns, which will always be positive.\n",
    "- Model the transformed data and sample new values.\n",
    "- Recompute the value of the high column by adding the values of the lower column to it.\n",
    "\n",
    "The Transform strategy is very efficient and does not affect the speed of the modeling and sampling process, but in some cases might affect the quality of the learning process or simply not be possible.\n",
    "\n",
    "### Reject Sampling Strategy\n",
    "In the cases where applying a Transform strategy is not possible or may affect the quality of the learning process, SDV can apply a Reject Sampling strategy.\n",
    "\n",
    "When using this strategy, SDV validates the sampled rows, discards the ones that do not adjust to the constraint, and re-samples them. This process is repeated until enough rows have been sampled.\n"
   ]
  },
  {
   "cell_type": "markdown",
   "id": "89a1db0f",
   "metadata": {},
   "source": [
    "## SVD Framework Predefined Constraints"
   ]
  },
  {
   "cell_type": "markdown",
   "id": "4cb799ee",
   "metadata": {},
   "source": [
    "### Unique Constraint"
   ]
  },
  {
   "cell_type": "code",
   "execution_count": 3,
   "id": "4f008c0b",
   "metadata": {},
   "outputs": [],
   "source": [
    "from sdv.constraints import Unique\n",
    "\n",
    "unique_employee_id_company_constraint = Unique(columns=['employee_id', 'company'])"
   ]
  },
  {
   "cell_type": "markdown",
   "id": "5cb15bc6",
   "metadata": {},
   "source": [
    "### UniqueCombinations Constraint"
   ]
  },
  {
   "cell_type": "code",
   "execution_count": 4,
   "id": "89d710e3",
   "metadata": {},
   "outputs": [],
   "source": [
    "from sdv.constraints import UniqueCombinations\n",
    "\n",
    "unique_company_department_constraint = UniqueCombinations(columns=['company', 'department'],\n",
    "                                                          handling_strategy='transform', # 'reject_sampling'\n",
    "                                                         )"
   ]
  },
  {
   "cell_type": "markdown",
   "id": "d76c7de7",
   "metadata": {},
   "source": [
    "### GreaterThan Constraint"
   ]
  },
  {
   "cell_type": "code",
   "execution_count": 5,
   "id": "44c8576b",
   "metadata": {},
   "outputs": [],
   "source": [
    "from sdv.constraints import GreaterThan\n",
    "\n",
    "age_gt_age_when_joined_constraint = GreaterThan(low='age_when_joined',\n",
    "                                                high='age',\n",
    "                                                handling_strategy='reject_sampling'\n",
    "                                               )"
   ]
  },
  {
   "cell_type": "markdown",
   "id": "9d48f1e7",
   "metadata": {},
   "source": [
    "**Lower or higher than a scalar value or specific datetime**"
   ]
  },
  {
   "cell_type": "code",
   "execution_count": 6,
   "id": "4c3b13b8",
   "metadata": {},
   "outputs": [],
   "source": [
    "salary_gt_30000_constraint = GreaterThan(low=30000,\n",
    "                                         high=['salary'], # or 'salary'\n",
    "                                         scalar='low',\n",
    "                                         handling_strategy='reject_sampling'\n",
    "                                        )"
   ]
  },
  {
   "cell_type": "markdown",
   "id": "680994fd",
   "metadata": {},
   "source": [
    "### Positive and Negative Constraints"
   ]
  },
  {
   "cell_type": "code",
   "execution_count": 7,
   "id": "5db24aaa",
   "metadata": {},
   "outputs": [],
   "source": [
    "from sdv.constraints import Positive\n",
    "\n",
    "positive_age_constraint = Positive(columns='age',\n",
    "                                   strict=False,\n",
    "                                   handling_strategy='reject_sampling'\n",
    "                                  )"
   ]
  },
  {
   "cell_type": "markdown",
   "id": "c7fda410",
   "metadata": {},
   "source": [
    "### ColumnFormula Constraint"
   ]
  },
  {
   "cell_type": "code",
   "execution_count": 8,
   "id": "6ed371ef",
   "metadata": {},
   "outputs": [],
   "source": [
    "from sdv.constraints import ColumnFormula"
   ]
  },
  {
   "cell_type": "code",
   "execution_count": 9,
   "id": "b6a530c9",
   "metadata": {},
   "outputs": [],
   "source": [
    "def years_in_the_company(data):\n",
    "    return data['age'] - data['age_when_joined']"
   ]
  },
  {
   "cell_type": "code",
   "execution_count": 10,
   "id": "9f174297",
   "metadata": {},
   "outputs": [],
   "source": [
    "years_in_the_company_constraint = ColumnFormula(column='years_in_the_company',\n",
    "                                                formula=years_in_the_company,\n",
    "                                                handling_strategy='transform'\n",
    "                                               )"
   ]
  },
  {
   "cell_type": "markdown",
   "id": "496fa9e7",
   "metadata": {},
   "source": [
    "### Rounding Constraint"
   ]
  },
  {
   "cell_type": "code",
   "execution_count": 11,
   "id": "c71bb860",
   "metadata": {},
   "outputs": [],
   "source": [
    "from sdv.constraints import Rounding\n",
    "\n",
    "salary_rounding_constraint = Rounding(columns='salary',\n",
    "                                      digits=2,\n",
    "                                      handling_strategy='transform'\n",
    "                                     )"
   ]
  },
  {
   "cell_type": "markdown",
   "id": "f9ad2780",
   "metadata": {},
   "source": [
    "### Between Constraint"
   ]
  },
  {
   "cell_type": "code",
   "execution_count": 12,
   "id": "0593497b",
   "metadata": {},
   "outputs": [],
   "source": [
    "from sdv.constraints import Between\n",
    "\n",
    "reasonable_age_constraint = Between(column='age',\n",
    "                                    low=15,\n",
    "                                    high=90,\n",
    "                                    handling_strategy='transform'\n",
    "                                   )"
   ]
  },
  {
   "cell_type": "markdown",
   "id": "63c29b4d",
   "metadata": {},
   "source": [
    "### OneHotEncoding Constraint"
   ]
  },
  {
   "cell_type": "code",
   "execution_count": 13,
   "id": "e58f4911",
   "metadata": {},
   "outputs": [],
   "source": [
    "from sdv.constraints import OneHotEncoding\n",
    "\n",
    "one_hot_constraint = OneHotEncoding(columns=['full_time', 'part_time', 'contractor'])"
   ]
  },
  {
   "cell_type": "markdown",
   "id": "a22d72bf",
   "metadata": {},
   "source": [
    "## Using the CustomConstraint"
   ]
  },
  {
   "cell_type": "code",
   "execution_count": 14,
   "id": "51d50563",
   "metadata": {},
   "outputs": [],
   "source": [
    "from sdv.constraints import CustomConstraint"
   ]
  },
  {
   "cell_type": "markdown",
   "id": "2c87a4ba",
   "metadata": {},
   "source": [
    "### Apply constraint to one column"
   ]
  },
  {
   "cell_type": "code",
   "execution_count": 15,
   "id": "7edc56eb",
   "metadata": {},
   "outputs": [],
   "source": [
    "def transform(table_data):\n",
    "    base = 500.\n",
    "    table_data['salary'] = table_data['salary'] / base\n",
    "    return table_data"
   ]
  },
  {
   "cell_type": "code",
   "execution_count": 16,
   "id": "8da2431b",
   "metadata": {},
   "outputs": [],
   "source": [
    "def reverse_transform(table_data):\n",
    "    base = 500.\n",
    "    table_data['salary'] = table_data['salary'].round() * base\n",
    "    return table_data"
   ]
  },
  {
   "cell_type": "code",
   "execution_count": 17,
   "id": "31e821bc",
   "metadata": {},
   "outputs": [],
   "source": [
    "custome_column_constraint = CustomConstraint(transform=transform, reverse_transform=reverse_transform)"
   ]
  },
  {
   "cell_type": "markdown",
   "id": "40d445fe",
   "metadata": {},
   "source": [
    "### Constraint to multiple columns"
   ]
  },
  {
   "cell_type": "code",
   "execution_count": 18,
   "id": "8bd9b8b5",
   "metadata": {},
   "outputs": [],
   "source": [
    "def transform(column_data):\n",
    "    base = 500.\n",
    "    return column_data / base"
   ]
  },
  {
   "cell_type": "code",
   "execution_count": 19,
   "id": "5059f0b1",
   "metadata": {},
   "outputs": [],
   "source": [
    "def reverse_transform(column_data):\n",
    "    base = 500.\n",
    "    return column_data.round() * base"
   ]
  },
  {
   "cell_type": "code",
   "execution_count": 20,
   "id": "b272c65e",
   "metadata": {},
   "outputs": [],
   "source": [
    "multiple_columns_constraint = CustomConstraint(columns=['salary', 'annual_bonus'],\n",
    "                              transform=transform,\n",
    "                              reverse_transform=reverse_transform\n",
    "                             )"
   ]
  },
  {
   "cell_type": "markdown",
   "id": "88cb70ed",
   "metadata": {},
   "source": [
    "### Constrain with condition from other columns"
   ]
  },
  {
   "cell_type": "code",
   "execution_count": 21,
   "id": "c366c2e8",
   "metadata": {},
   "outputs": [],
   "source": [
    "def transform(table_data, column):\n",
    "    base = 500.\n",
    "    table_data[column] = table_data[column] / base\n",
    "    return table_data"
   ]
  },
  {
   "cell_type": "code",
   "execution_count": 22,
   "id": "8a89ff55",
   "metadata": {},
   "outputs": [],
   "source": [
    "def reverse_transform(table_data, column):\n",
    "    base = 500.\n",
    "    is_not_contractor = table_data[\"contractor\"] == 0.\n",
    "    table_data[column] = table_data[column].round(4)\n",
    "    table_data[column].loc[is_not_contractor] = table_data[column].loc[is_not_contractor].round()\n",
    "    table_data[column] *= base\n",
    "    return table_data"
   ]
  },
  {
   "cell_type": "code",
   "execution_count": 23,
   "id": "ab0bbeb7",
   "metadata": {},
   "outputs": [],
   "source": [
    "multiple_columns_with_condition_constraint = CustomConstraint(columns=['salary', 'annual_bonus'],\n",
    "                                                              transform=transform,\n",
    "                                                              reverse_transform=reverse_transform\n",
    "                                                             )"
   ]
  },
  {
   "cell_type": "markdown",
   "id": "a4fc3ac6",
   "metadata": {},
   "source": [
    "### Constrain based on reject sampling"
   ]
  },
  {
   "cell_type": "code",
   "execution_count": 54,
   "id": "c6b39a18",
   "metadata": {},
   "outputs": [],
   "source": [
    "def is_valid(table_data):\n",
    "    base = 500.\n",
    "    return table_data['salary'] % base == 0\n",
    "\n",
    "def is_valid(column_data):\n",
    "    base = 500.\n",
    "    return column_data % base == 0\n",
    "\n",
    "def is_valid(table_data, column):\n",
    "    base = 500.\n",
    "    is_contractor = table_data.contractor == 1\n",
    "    valid = table_data[column] % base == 0\n",
    "    contractor_salary = employees['salary'].loc[is_contractor]\n",
    "    valid.loc[is_contractor] = contractor_salary == contractor_salary.round(2)\n",
    "    return valid"
   ]
  },
  {
   "cell_type": "code",
   "execution_count": 55,
   "id": "1dd3ba81",
   "metadata": {},
   "outputs": [],
   "source": [
    "custom_reject_constraint = CustomConstraint(\n",
    "                                            columns=['salary', 'annual_bonus'],\n",
    "                                            is_valid=is_valid\n",
    "                                           )"
   ]
  },
  {
   "cell_type": "markdown",
   "id": "d5e13632",
   "metadata": {},
   "source": [
    "## Using the Constraints in Synthesize model"
   ]
  },
  {
   "cell_type": "code",
   "execution_count": 51,
   "id": "ea4ccc26",
   "metadata": {},
   "outputs": [],
   "source": [
    "from sdv.tabular import GaussianCopula\n",
    "\n",
    "constraints = [unique_employee_id_company_constraint,\n",
    "#                unique_company_department_constraint,\n",
    "#                age_gt_age_when_joined_constraint,\n",
    "#                salary_gt_30000_constraint,\n",
    "#                positive_age_constraint,\n",
    "#                years_in_the_company_constraint,\n",
    "#                salary_rounding_constraint,\n",
    "#                reasonable_age_constraint,\n",
    "#                one_hot_constraint,\n",
    "#                multiple_columns_with_condition_constraint,\n",
    "               custom_reject_constraint,\n",
    "              ]\n",
    "\n",
    "model = GaussianCopula(constraints=constraints)"
   ]
  },
  {
   "cell_type": "code",
   "execution_count": 52,
   "id": "b8db912b",
   "metadata": {},
   "outputs": [
    {
     "ename": "ConstraintsNotMetError",
     "evalue": "Data is not valid for the given constraints",
     "output_type": "error",
     "traceback": [
      "\u001b[0;31m---------------------------------------------------------------------------\u001b[0m",
      "\u001b[0;31mConstraintsNotMetError\u001b[0m                    Traceback (most recent call last)",
      "\u001b[0;32m/tmp/ipykernel_132258/4259248316.py\u001b[0m in \u001b[0;36m<module>\u001b[0;34m\u001b[0m\n\u001b[0;32m----> 1\u001b[0;31m \u001b[0mmodel\u001b[0m\u001b[0;34m.\u001b[0m\u001b[0mfit\u001b[0m\u001b[0;34m(\u001b[0m\u001b[0memployees\u001b[0m\u001b[0;34m)\u001b[0m\u001b[0;34m\u001b[0m\u001b[0;34m\u001b[0m\u001b[0m\n\u001b[0m",
      "\u001b[0;32m~/miniconda3/envs/tab/lib/python3.8/site-packages/sdv/tabular/base.py\u001b[0m in \u001b[0;36mfit\u001b[0;34m(self, data)\u001b[0m\n\u001b[1;32m    136\u001b[0m \u001b[0;34m\u001b[0m\u001b[0m\n\u001b[1;32m    137\u001b[0m         \u001b[0mLOGGER\u001b[0m\u001b[0;34m.\u001b[0m\u001b[0mdebug\u001b[0m\u001b[0;34m(\u001b[0m\u001b[0;34m'Transforming table %s; shape: %s'\u001b[0m\u001b[0;34m,\u001b[0m \u001b[0mself\u001b[0m\u001b[0;34m.\u001b[0m\u001b[0m_metadata\u001b[0m\u001b[0;34m.\u001b[0m\u001b[0mname\u001b[0m\u001b[0;34m,\u001b[0m \u001b[0mdata\u001b[0m\u001b[0;34m.\u001b[0m\u001b[0mshape\u001b[0m\u001b[0;34m)\u001b[0m\u001b[0;34m\u001b[0m\u001b[0;34m\u001b[0m\u001b[0m\n\u001b[0;32m--> 138\u001b[0;31m         \u001b[0mtransformed\u001b[0m \u001b[0;34m=\u001b[0m \u001b[0mself\u001b[0m\u001b[0;34m.\u001b[0m\u001b[0m_metadata\u001b[0m\u001b[0;34m.\u001b[0m\u001b[0mtransform\u001b[0m\u001b[0;34m(\u001b[0m\u001b[0mdata\u001b[0m\u001b[0;34m)\u001b[0m\u001b[0;34m\u001b[0m\u001b[0;34m\u001b[0m\u001b[0m\n\u001b[0m\u001b[1;32m    139\u001b[0m \u001b[0;34m\u001b[0m\u001b[0m\n\u001b[1;32m    140\u001b[0m         \u001b[0;32mif\u001b[0m \u001b[0mself\u001b[0m\u001b[0;34m.\u001b[0m\u001b[0m_metadata\u001b[0m\u001b[0;34m.\u001b[0m\u001b[0mget_dtypes\u001b[0m\u001b[0;34m(\u001b[0m\u001b[0mids\u001b[0m\u001b[0;34m=\u001b[0m\u001b[0;32mFalse\u001b[0m\u001b[0;34m)\u001b[0m\u001b[0;34m:\u001b[0m\u001b[0;34m\u001b[0m\u001b[0;34m\u001b[0m\u001b[0m\n",
      "\u001b[0;32m~/miniconda3/envs/tab/lib/python3.8/site-packages/sdv/metadata/table.py\u001b[0m in \u001b[0;36mtransform\u001b[0;34m(self, data, on_missing_column)\u001b[0m\n\u001b[1;32m    620\u001b[0m         \u001b[0mdata\u001b[0m \u001b[0;34m=\u001b[0m \u001b[0mself\u001b[0m\u001b[0;34m.\u001b[0m\u001b[0m_anonymize\u001b[0m\u001b[0;34m(\u001b[0m\u001b[0mdata\u001b[0m\u001b[0;34m[\u001b[0m\u001b[0mfields\u001b[0m\u001b[0;34m]\u001b[0m\u001b[0;34m)\u001b[0m\u001b[0;34m\u001b[0m\u001b[0;34m\u001b[0m\u001b[0m\n\u001b[1;32m    621\u001b[0m \u001b[0;34m\u001b[0m\u001b[0m\n\u001b[0;32m--> 622\u001b[0;31m         \u001b[0mself\u001b[0m\u001b[0;34m.\u001b[0m\u001b[0m_validate_data_on_constraints\u001b[0m\u001b[0;34m(\u001b[0m\u001b[0mdata\u001b[0m\u001b[0;34m)\u001b[0m\u001b[0;34m\u001b[0m\u001b[0;34m\u001b[0m\u001b[0m\n\u001b[0m\u001b[1;32m    623\u001b[0m \u001b[0;34m\u001b[0m\u001b[0m\n\u001b[1;32m    624\u001b[0m         \u001b[0mLOGGER\u001b[0m\u001b[0;34m.\u001b[0m\u001b[0mdebug\u001b[0m\u001b[0;34m(\u001b[0m\u001b[0;34m'Transforming constraints for table %s'\u001b[0m\u001b[0;34m,\u001b[0m \u001b[0mself\u001b[0m\u001b[0;34m.\u001b[0m\u001b[0mname\u001b[0m\u001b[0;34m)\u001b[0m\u001b[0;34m\u001b[0m\u001b[0;34m\u001b[0m\u001b[0m\n",
      "\u001b[0;32m~/miniconda3/envs/tab/lib/python3.8/site-packages/sdv/metadata/table.py\u001b[0m in \u001b[0;36m_validate_data_on_constraints\u001b[0;34m(self, data)\u001b[0m\n\u001b[1;32m    592\u001b[0m             \u001b[0;32mif\u001b[0m \u001b[0mset\u001b[0m\u001b[0;34m(\u001b[0m\u001b[0mconstraint\u001b[0m\u001b[0;34m.\u001b[0m\u001b[0mconstraint_columns\u001b[0m\u001b[0;34m)\u001b[0m\u001b[0;34m.\u001b[0m\u001b[0missubset\u001b[0m\u001b[0;34m(\u001b[0m\u001b[0mdata\u001b[0m\u001b[0;34m.\u001b[0m\u001b[0mcolumns\u001b[0m\u001b[0;34m.\u001b[0m\u001b[0mvalues\u001b[0m\u001b[0;34m)\u001b[0m\u001b[0;34m:\u001b[0m\u001b[0;34m\u001b[0m\u001b[0;34m\u001b[0m\u001b[0m\n\u001b[1;32m    593\u001b[0m                 \u001b[0;32mif\u001b[0m \u001b[0;32mnot\u001b[0m \u001b[0mconstraint\u001b[0m\u001b[0;34m.\u001b[0m\u001b[0mis_valid\u001b[0m\u001b[0;34m(\u001b[0m\u001b[0mdata\u001b[0m\u001b[0;34m)\u001b[0m\u001b[0;34m.\u001b[0m\u001b[0mall\u001b[0m\u001b[0;34m(\u001b[0m\u001b[0;34m)\u001b[0m\u001b[0;34m:\u001b[0m\u001b[0;34m\u001b[0m\u001b[0;34m\u001b[0m\u001b[0m\n\u001b[0;32m--> 594\u001b[0;31m                     \u001b[0;32mraise\u001b[0m \u001b[0mConstraintsNotMetError\u001b[0m\u001b[0;34m(\u001b[0m\u001b[0;34m'Data is not valid for the given constraints'\u001b[0m\u001b[0;34m)\u001b[0m\u001b[0;34m\u001b[0m\u001b[0;34m\u001b[0m\u001b[0m\n\u001b[0m\u001b[1;32m    595\u001b[0m \u001b[0;34m\u001b[0m\u001b[0m\n\u001b[1;32m    596\u001b[0m     \u001b[0;32mdef\u001b[0m \u001b[0mtransform\u001b[0m\u001b[0;34m(\u001b[0m\u001b[0mself\u001b[0m\u001b[0;34m,\u001b[0m \u001b[0mdata\u001b[0m\u001b[0;34m,\u001b[0m \u001b[0mon_missing_column\u001b[0m\u001b[0;34m=\u001b[0m\u001b[0;34m'error'\u001b[0m\u001b[0;34m)\u001b[0m\u001b[0;34m:\u001b[0m\u001b[0;34m\u001b[0m\u001b[0;34m\u001b[0m\u001b[0m\n",
      "\u001b[0;31mConstraintsNotMetError\u001b[0m: Data is not valid for the given constraints"
     ]
    }
   ],
   "source": [
    "model.fit(employees)"
   ]
  },
  {
   "cell_type": "code",
   "execution_count": 42,
   "id": "73b728b6",
   "metadata": {},
   "outputs": [
    {
     "ename": "AttributeError",
     "evalue": "'NoneType' object has no attribute 'sample'",
     "output_type": "error",
     "traceback": [
      "\u001b[0;31m---------------------------------------------------------------------------\u001b[0m",
      "\u001b[0;31mAttributeError\u001b[0m                            Traceback (most recent call last)",
      "\u001b[0;32m/tmp/ipykernel_132258/963111056.py\u001b[0m in \u001b[0;36m<module>\u001b[0;34m\u001b[0m\n\u001b[0;32m----> 1\u001b[0;31m \u001b[0msampled\u001b[0m \u001b[0;34m=\u001b[0m \u001b[0mmodel\u001b[0m\u001b[0;34m.\u001b[0m\u001b[0msample\u001b[0m\u001b[0;34m(\u001b[0m\u001b[0;36m100\u001b[0m\u001b[0;34m)\u001b[0m\u001b[0;34m\u001b[0m\u001b[0;34m\u001b[0m\u001b[0m\n\u001b[0m",
      "\u001b[0;32m~/miniconda3/envs/tab/lib/python3.8/site-packages/sdv/tabular/base.py\u001b[0m in \u001b[0;36msample\u001b[0;34m(self, num_rows, max_retries, max_rows_multiplier, conditions, float_rtol, graceful_reject_sampling)\u001b[0m\n\u001b[1;32m    440\u001b[0m         \u001b[0;32mif\u001b[0m \u001b[0mconditions\u001b[0m \u001b[0;32mis\u001b[0m \u001b[0;32mNone\u001b[0m\u001b[0;34m:\u001b[0m\u001b[0;34m\u001b[0m\u001b[0;34m\u001b[0m\u001b[0m\n\u001b[1;32m    441\u001b[0m             \u001b[0mnum_rows\u001b[0m \u001b[0;34m=\u001b[0m \u001b[0mnum_rows\u001b[0m \u001b[0;32mor\u001b[0m \u001b[0mself\u001b[0m\u001b[0;34m.\u001b[0m\u001b[0m_num_rows\u001b[0m\u001b[0;34m\u001b[0m\u001b[0;34m\u001b[0m\u001b[0m\n\u001b[0;32m--> 442\u001b[0;31m             \u001b[0;32mreturn\u001b[0m \u001b[0mself\u001b[0m\u001b[0;34m.\u001b[0m\u001b[0m_sample_batch\u001b[0m\u001b[0;34m(\u001b[0m\u001b[0mnum_rows\u001b[0m\u001b[0;34m,\u001b[0m \u001b[0mmax_retries\u001b[0m\u001b[0;34m,\u001b[0m \u001b[0mmax_rows_multiplier\u001b[0m\u001b[0;34m)\u001b[0m\u001b[0;34m\u001b[0m\u001b[0;34m\u001b[0m\u001b[0m\n\u001b[0m\u001b[1;32m    443\u001b[0m \u001b[0;34m\u001b[0m\u001b[0m\n\u001b[1;32m    444\u001b[0m         \u001b[0;31m# convert conditions to dataframe\u001b[0m\u001b[0;34m\u001b[0m\u001b[0;34m\u001b[0m\u001b[0;34m\u001b[0m\u001b[0m\n",
      "\u001b[0;32m~/miniconda3/envs/tab/lib/python3.8/site-packages/sdv/tabular/base.py\u001b[0m in \u001b[0;36m_sample_batch\u001b[0;34m(self, num_rows, max_retries, max_rows_multiplier, conditions, transformed_conditions, float_rtol)\u001b[0m\n\u001b[1;32m    297\u001b[0m                 \u001b[0mSampled\u001b[0m \u001b[0mdata\u001b[0m\u001b[0;34m.\u001b[0m\u001b[0;34m\u001b[0m\u001b[0;34m\u001b[0m\u001b[0m\n\u001b[1;32m    298\u001b[0m         \"\"\"\n\u001b[0;32m--> 299\u001b[0;31m         sampled, num_valid = self._sample_rows(\n\u001b[0m\u001b[1;32m    300\u001b[0m             num_rows, conditions, transformed_conditions, float_rtol)\n\u001b[1;32m    301\u001b[0m \u001b[0;34m\u001b[0m\u001b[0m\n",
      "\u001b[0;32m~/miniconda3/envs/tab/lib/python3.8/site-packages/sdv/tabular/base.py\u001b[0m in \u001b[0;36m_sample_rows\u001b[0;34m(self, num_rows, conditions, transformed_conditions, float_rtol, previous_rows)\u001b[0m\n\u001b[1;32m    226\u001b[0m         \u001b[0;32mif\u001b[0m \u001b[0mself\u001b[0m\u001b[0;34m.\u001b[0m\u001b[0m_metadata\u001b[0m\u001b[0;34m.\u001b[0m\u001b[0mget_dtypes\u001b[0m\u001b[0;34m(\u001b[0m\u001b[0mids\u001b[0m\u001b[0;34m=\u001b[0m\u001b[0;32mFalse\u001b[0m\u001b[0;34m)\u001b[0m\u001b[0;34m:\u001b[0m\u001b[0;34m\u001b[0m\u001b[0;34m\u001b[0m\u001b[0m\n\u001b[1;32m    227\u001b[0m             \u001b[0;32mif\u001b[0m \u001b[0mconditions\u001b[0m \u001b[0;32mis\u001b[0m \u001b[0;32mNone\u001b[0m\u001b[0;34m:\u001b[0m\u001b[0;34m\u001b[0m\u001b[0;34m\u001b[0m\u001b[0m\n\u001b[0;32m--> 228\u001b[0;31m                 \u001b[0msampled\u001b[0m \u001b[0;34m=\u001b[0m \u001b[0mself\u001b[0m\u001b[0;34m.\u001b[0m\u001b[0m_sample\u001b[0m\u001b[0;34m(\u001b[0m\u001b[0mnum_rows\u001b[0m\u001b[0;34m)\u001b[0m\u001b[0;34m\u001b[0m\u001b[0;34m\u001b[0m\u001b[0m\n\u001b[0m\u001b[1;32m    229\u001b[0m             \u001b[0;32melse\u001b[0m\u001b[0;34m:\u001b[0m\u001b[0;34m\u001b[0m\u001b[0;34m\u001b[0m\u001b[0m\n\u001b[1;32m    230\u001b[0m                 \u001b[0;32mtry\u001b[0m\u001b[0;34m:\u001b[0m\u001b[0;34m\u001b[0m\u001b[0;34m\u001b[0m\u001b[0m\n",
      "\u001b[0;32m~/miniconda3/envs/tab/lib/python3.8/site-packages/sdv/tabular/copulas.py\u001b[0m in \u001b[0;36m_sample\u001b[0;34m(self, num_rows, conditions)\u001b[0m\n\u001b[1;32m    317\u001b[0m                 \u001b[0mSampled\u001b[0m \u001b[0mdata\u001b[0m\u001b[0;34m.\u001b[0m\u001b[0;34m\u001b[0m\u001b[0;34m\u001b[0m\u001b[0m\n\u001b[1;32m    318\u001b[0m         \"\"\"\n\u001b[0;32m--> 319\u001b[0;31m         \u001b[0;32mreturn\u001b[0m \u001b[0mself\u001b[0m\u001b[0;34m.\u001b[0m\u001b[0m_model\u001b[0m\u001b[0;34m.\u001b[0m\u001b[0msample\u001b[0m\u001b[0;34m(\u001b[0m\u001b[0mnum_rows\u001b[0m\u001b[0;34m,\u001b[0m \u001b[0mconditions\u001b[0m\u001b[0;34m=\u001b[0m\u001b[0mconditions\u001b[0m\u001b[0;34m)\u001b[0m\u001b[0;34m\u001b[0m\u001b[0;34m\u001b[0m\u001b[0m\n\u001b[0m\u001b[1;32m    320\u001b[0m \u001b[0;34m\u001b[0m\u001b[0m\n\u001b[1;32m    321\u001b[0m     \u001b[0;32mdef\u001b[0m \u001b[0mget_likelihood\u001b[0m\u001b[0;34m(\u001b[0m\u001b[0mself\u001b[0m\u001b[0;34m,\u001b[0m \u001b[0mtable_data\u001b[0m\u001b[0;34m)\u001b[0m\u001b[0;34m:\u001b[0m\u001b[0;34m\u001b[0m\u001b[0;34m\u001b[0m\u001b[0m\n",
      "\u001b[0;31mAttributeError\u001b[0m: 'NoneType' object has no attribute 'sample'"
     ]
    }
   ],
   "source": [
    "sampled = model.sample(100)"
   ]
  },
  {
   "cell_type": "code",
   "execution_count": 30,
   "id": "01f9ad33",
   "metadata": {},
   "outputs": [
    {
     "data": {
      "text/html": [
       "<div>\n",
       "<style scoped>\n",
       "    .dataframe tbody tr th:only-of-type {\n",
       "        vertical-align: middle;\n",
       "    }\n",
       "\n",
       "    .dataframe tbody tr th {\n",
       "        vertical-align: top;\n",
       "    }\n",
       "\n",
       "    .dataframe thead th {\n",
       "        text-align: right;\n",
       "    }\n",
       "</style>\n",
       "<table border=\"1\" class=\"dataframe\">\n",
       "  <thead>\n",
       "    <tr style=\"text-align: right;\">\n",
       "      <th></th>\n",
       "      <th>company</th>\n",
       "      <th>department</th>\n",
       "      <th>employee_id</th>\n",
       "      <th>age</th>\n",
       "      <th>age_when_joined</th>\n",
       "      <th>years_in_the_company</th>\n",
       "      <th>salary</th>\n",
       "      <th>annual_bonus</th>\n",
       "      <th>prior_years_experience</th>\n",
       "      <th>full_time</th>\n",
       "      <th>part_time</th>\n",
       "      <th>contractor</th>\n",
       "    </tr>\n",
       "  </thead>\n",
       "  <tbody>\n",
       "    <tr>\n",
       "      <th>0</th>\n",
       "      <td>Glasses</td>\n",
       "      <td>AI</td>\n",
       "      <td>38</td>\n",
       "      <td>46</td>\n",
       "      <td>41</td>\n",
       "      <td>5</td>\n",
       "      <td>78000.00</td>\n",
       "      <td>21000.00</td>\n",
       "      <td>4</td>\n",
       "      <td>1.0</td>\n",
       "      <td>0.0</td>\n",
       "      <td>0.0</td>\n",
       "    </tr>\n",
       "    <tr>\n",
       "      <th>1</th>\n",
       "      <td>Cheerper</td>\n",
       "      <td>BigData</td>\n",
       "      <td>8</td>\n",
       "      <td>46</td>\n",
       "      <td>40</td>\n",
       "      <td>6</td>\n",
       "      <td>138000.00</td>\n",
       "      <td>7500.00</td>\n",
       "      <td>2</td>\n",
       "      <td>1.0</td>\n",
       "      <td>0.0</td>\n",
       "      <td>0.0</td>\n",
       "    </tr>\n",
       "    <tr>\n",
       "      <th>2</th>\n",
       "      <td>Glasses</td>\n",
       "      <td>Search Engine</td>\n",
       "      <td>16</td>\n",
       "      <td>40</td>\n",
       "      <td>34</td>\n",
       "      <td>6</td>\n",
       "      <td>117340.60</td>\n",
       "      <td>8195.65</td>\n",
       "      <td>2</td>\n",
       "      <td>0.0</td>\n",
       "      <td>0.0</td>\n",
       "      <td>1.0</td>\n",
       "    </tr>\n",
       "    <tr>\n",
       "      <th>3</th>\n",
       "      <td>Pear</td>\n",
       "      <td>Design</td>\n",
       "      <td>70</td>\n",
       "      <td>33</td>\n",
       "      <td>27</td>\n",
       "      <td>6</td>\n",
       "      <td>44382.45</td>\n",
       "      <td>21614.00</td>\n",
       "      <td>4</td>\n",
       "      <td>0.0</td>\n",
       "      <td>0.0</td>\n",
       "      <td>1.0</td>\n",
       "    </tr>\n",
       "    <tr>\n",
       "      <th>4</th>\n",
       "      <td>Cheerper</td>\n",
       "      <td>Support</td>\n",
       "      <td>43</td>\n",
       "      <td>45</td>\n",
       "      <td>38</td>\n",
       "      <td>7</td>\n",
       "      <td>155000.00</td>\n",
       "      <td>23500.00</td>\n",
       "      <td>2</td>\n",
       "      <td>0.0</td>\n",
       "      <td>1.0</td>\n",
       "      <td>0.0</td>\n",
       "    </tr>\n",
       "    <tr>\n",
       "      <th>5</th>\n",
       "      <td>Cheerper</td>\n",
       "      <td>BigData</td>\n",
       "      <td>42</td>\n",
       "      <td>35</td>\n",
       "      <td>30</td>\n",
       "      <td>5</td>\n",
       "      <td>137000.00</td>\n",
       "      <td>8500.00</td>\n",
       "      <td>2</td>\n",
       "      <td>0.0</td>\n",
       "      <td>1.0</td>\n",
       "      <td>0.0</td>\n",
       "    </tr>\n",
       "    <tr>\n",
       "      <th>6</th>\n",
       "      <td>Glasses</td>\n",
       "      <td>Search Engine</td>\n",
       "      <td>5</td>\n",
       "      <td>43</td>\n",
       "      <td>37</td>\n",
       "      <td>6</td>\n",
       "      <td>155000.00</td>\n",
       "      <td>7086.60</td>\n",
       "      <td>4</td>\n",
       "      <td>0.0</td>\n",
       "      <td>0.0</td>\n",
       "      <td>1.0</td>\n",
       "    </tr>\n",
       "    <tr>\n",
       "      <th>7</th>\n",
       "      <td>Pear</td>\n",
       "      <td>Sales</td>\n",
       "      <td>8</td>\n",
       "      <td>47</td>\n",
       "      <td>43</td>\n",
       "      <td>4</td>\n",
       "      <td>151500.00</td>\n",
       "      <td>12500.00</td>\n",
       "      <td>4</td>\n",
       "      <td>1.0</td>\n",
       "      <td>0.0</td>\n",
       "      <td>0.0</td>\n",
       "    </tr>\n",
       "    <tr>\n",
       "      <th>8</th>\n",
       "      <td>Cheerper</td>\n",
       "      <td>BigData</td>\n",
       "      <td>2</td>\n",
       "      <td>33</td>\n",
       "      <td>27</td>\n",
       "      <td>6</td>\n",
       "      <td>100500.00</td>\n",
       "      <td>23000.00</td>\n",
       "      <td>1</td>\n",
       "      <td>0.0</td>\n",
       "      <td>1.0</td>\n",
       "      <td>0.0</td>\n",
       "    </tr>\n",
       "    <tr>\n",
       "      <th>9</th>\n",
       "      <td>Pear</td>\n",
       "      <td>Design</td>\n",
       "      <td>5</td>\n",
       "      <td>33</td>\n",
       "      <td>28</td>\n",
       "      <td>5</td>\n",
       "      <td>104500.00</td>\n",
       "      <td>21000.00</td>\n",
       "      <td>2</td>\n",
       "      <td>0.0</td>\n",
       "      <td>1.0</td>\n",
       "      <td>0.0</td>\n",
       "    </tr>\n",
       "  </tbody>\n",
       "</table>\n",
       "</div>"
      ],
      "text/plain": [
       "    company     department  employee_id  age  age_when_joined  \\\n",
       "0   Glasses             AI           38   46               41   \n",
       "1  Cheerper        BigData            8   46               40   \n",
       "2   Glasses  Search Engine           16   40               34   \n",
       "3      Pear         Design           70   33               27   \n",
       "4  Cheerper        Support           43   45               38   \n",
       "5  Cheerper        BigData           42   35               30   \n",
       "6   Glasses  Search Engine            5   43               37   \n",
       "7      Pear          Sales            8   47               43   \n",
       "8  Cheerper        BigData            2   33               27   \n",
       "9      Pear         Design            5   33               28   \n",
       "\n",
       "   years_in_the_company     salary  annual_bonus  prior_years_experience  \\\n",
       "0                     5   78000.00      21000.00                       4   \n",
       "1                     6  138000.00       7500.00                       2   \n",
       "2                     6  117340.60       8195.65                       2   \n",
       "3                     6   44382.45      21614.00                       4   \n",
       "4                     7  155000.00      23500.00                       2   \n",
       "5                     5  137000.00       8500.00                       2   \n",
       "6                     6  155000.00       7086.60                       4   \n",
       "7                     4  151500.00      12500.00                       4   \n",
       "8                     6  100500.00      23000.00                       1   \n",
       "9                     5  104500.00      21000.00                       2   \n",
       "\n",
       "   full_time  part_time  contractor  \n",
       "0        1.0        0.0         0.0  \n",
       "1        1.0        0.0         0.0  \n",
       "2        0.0        0.0         1.0  \n",
       "3        0.0        0.0         1.0  \n",
       "4        0.0        1.0         0.0  \n",
       "5        0.0        1.0         0.0  \n",
       "6        0.0        0.0         1.0  \n",
       "7        1.0        0.0         0.0  \n",
       "8        0.0        1.0         0.0  \n",
       "9        0.0        1.0         0.0  "
      ]
     },
     "execution_count": 30,
     "metadata": {},
     "output_type": "execute_result"
    }
   ],
   "source": [
    "sampled"
   ]
  }
 ],
 "metadata": {
  "kernelspec": {
   "display_name": "Python 3 (ipykernel)",
   "language": "python",
   "name": "python3"
  },
  "language_info": {
   "codemirror_mode": {
    "name": "ipython",
    "version": 3
   },
   "file_extension": ".py",
   "mimetype": "text/x-python",
   "name": "python",
   "nbconvert_exporter": "python",
   "pygments_lexer": "ipython3",
   "version": "3.8.12"
  },
  "toc": {
   "base_numbering": 1,
   "nav_menu": {},
   "number_sections": true,
   "sideBar": true,
   "skip_h1_title": true,
   "title_cell": "Table of Contents",
   "title_sidebar": "Contents",
   "toc_cell": false,
   "toc_position": {
    "height": "calc(100% - 180px)",
    "left": "10px",
    "top": "150px",
    "width": "300px"
   },
   "toc_section_display": true,
   "toc_window_display": true
  }
 },
 "nbformat": 4,
 "nbformat_minor": 5
}
