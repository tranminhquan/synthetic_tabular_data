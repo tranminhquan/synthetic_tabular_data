{
 "cells": [
  {
   "cell_type": "markdown",
   "id": "c33a2aa7",
   "metadata": {},
   "source": [
    "# Fields constrain"
   ]
  },
  {
   "cell_type": "code",
   "execution_count": 1,
   "id": "9a77d849",
   "metadata": {},
   "outputs": [],
   "source": [
    "import warnings\n",
    "warnings.filterwarnings('ignore')"
   ]
  },
  {
   "cell_type": "markdown",
   "id": "f79dcc67",
   "metadata": {},
   "source": [
    "## The problems\n",
    "A very common scenario that we face when working with tabular data is finding columns that have very particular relationships between them which are very hard to model and easily confuse the Tabular Models.\n",
    "\n",
    "Some simple examples of these scenarios include:\n",
    "- A table that has the columns `country` and `city`: In such scenario, it might be very hard to learn which `country` each `city` belongs to, and when sampling probabilistically, the model is likely to end up generating invalid `country`/`city` combinations.\n",
    "- A table that contains both the `ag`e and the `date of birth` of a user. The model will learn the `age` and `date of birth` distributions and mostly generate valid combinations, but in some cases it might end up giving back `ages` **that do not correspond to the** `given date of birth`.\n",
    "\n",
    "These kind of special relationships between columns are called Constraints.\n"
   ]
  },
  {
   "cell_type": "code",
   "execution_count": 2,
   "id": "7491f9c1",
   "metadata": {},
   "outputs": [
    {
     "data": {
      "text/html": [
       "<div>\n",
       "<style scoped>\n",
       "    .dataframe tbody tr th:only-of-type {\n",
       "        vertical-align: middle;\n",
       "    }\n",
       "\n",
       "    .dataframe tbody tr th {\n",
       "        vertical-align: top;\n",
       "    }\n",
       "\n",
       "    .dataframe thead th {\n",
       "        text-align: right;\n",
       "    }\n",
       "</style>\n",
       "<table border=\"1\" class=\"dataframe\">\n",
       "  <thead>\n",
       "    <tr style=\"text-align: right;\">\n",
       "      <th></th>\n",
       "      <th>company</th>\n",
       "      <th>department</th>\n",
       "      <th>employee_id</th>\n",
       "      <th>age</th>\n",
       "      <th>age_when_joined</th>\n",
       "      <th>years_in_the_company</th>\n",
       "      <th>salary</th>\n",
       "      <th>annual_bonus</th>\n",
       "      <th>prior_years_experience</th>\n",
       "      <th>full_time</th>\n",
       "      <th>part_time</th>\n",
       "      <th>contractor</th>\n",
       "    </tr>\n",
       "  </thead>\n",
       "  <tbody>\n",
       "    <tr>\n",
       "      <th>0</th>\n",
       "      <td>Pear</td>\n",
       "      <td>Sales</td>\n",
       "      <td>1</td>\n",
       "      <td>34</td>\n",
       "      <td>27</td>\n",
       "      <td>7</td>\n",
       "      <td>78500.00</td>\n",
       "      <td>10500.00</td>\n",
       "      <td>3</td>\n",
       "      <td>1.0</td>\n",
       "      <td>0.0</td>\n",
       "      <td>0.0</td>\n",
       "    </tr>\n",
       "    <tr>\n",
       "      <th>1</th>\n",
       "      <td>Pear</td>\n",
       "      <td>Design</td>\n",
       "      <td>5</td>\n",
       "      <td>41</td>\n",
       "      <td>40</td>\n",
       "      <td>1</td>\n",
       "      <td>45960.55</td>\n",
       "      <td>11115.47</td>\n",
       "      <td>2</td>\n",
       "      <td>0.0</td>\n",
       "      <td>0.0</td>\n",
       "      <td>1.0</td>\n",
       "    </tr>\n",
       "    <tr>\n",
       "      <th>2</th>\n",
       "      <td>Glasses</td>\n",
       "      <td>AI</td>\n",
       "      <td>1</td>\n",
       "      <td>45</td>\n",
       "      <td>37</td>\n",
       "      <td>8</td>\n",
       "      <td>58500.00</td>\n",
       "      <td>6000.00</td>\n",
       "      <td>5</td>\n",
       "      <td>1.0</td>\n",
       "      <td>0.0</td>\n",
       "      <td>0.0</td>\n",
       "    </tr>\n",
       "    <tr>\n",
       "      <th>3</th>\n",
       "      <td>Glasses</td>\n",
       "      <td>Search Engine</td>\n",
       "      <td>7</td>\n",
       "      <td>38</td>\n",
       "      <td>36</td>\n",
       "      <td>2</td>\n",
       "      <td>121489.44</td>\n",
       "      <td>15194.26</td>\n",
       "      <td>3</td>\n",
       "      <td>0.0</td>\n",
       "      <td>0.0</td>\n",
       "      <td>1.0</td>\n",
       "    </tr>\n",
       "    <tr>\n",
       "      <th>4</th>\n",
       "      <td>Cheerper</td>\n",
       "      <td>BigData</td>\n",
       "      <td>6</td>\n",
       "      <td>48</td>\n",
       "      <td>45</td>\n",
       "      <td>3</td>\n",
       "      <td>33000.00</td>\n",
       "      <td>23500.00</td>\n",
       "      <td>4</td>\n",
       "      <td>0.0</td>\n",
       "      <td>1.0</td>\n",
       "      <td>0.0</td>\n",
       "    </tr>\n",
       "    <tr>\n",
       "      <th>5</th>\n",
       "      <td>Cheerper</td>\n",
       "      <td>Support</td>\n",
       "      <td>11</td>\n",
       "      <td>42</td>\n",
       "      <td>33</td>\n",
       "      <td>9</td>\n",
       "      <td>36500.00</td>\n",
       "      <td>9000.00</td>\n",
       "      <td>3</td>\n",
       "      <td>0.0</td>\n",
       "      <td>1.0</td>\n",
       "      <td>0.0</td>\n",
       "    </tr>\n",
       "    <tr>\n",
       "      <th>6</th>\n",
       "      <td>Pear</td>\n",
       "      <td>Sales</td>\n",
       "      <td>28</td>\n",
       "      <td>49</td>\n",
       "      <td>43</td>\n",
       "      <td>6</td>\n",
       "      <td>48500.00</td>\n",
       "      <td>6500.00</td>\n",
       "      <td>5</td>\n",
       "      <td>1.0</td>\n",
       "      <td>0.0</td>\n",
       "      <td>0.0</td>\n",
       "    </tr>\n",
       "    <tr>\n",
       "      <th>7</th>\n",
       "      <td>Pear</td>\n",
       "      <td>Design</td>\n",
       "      <td>75</td>\n",
       "      <td>45</td>\n",
       "      <td>39</td>\n",
       "      <td>6</td>\n",
       "      <td>91072.47</td>\n",
       "      <td>19286.46</td>\n",
       "      <td>5</td>\n",
       "      <td>0.0</td>\n",
       "      <td>0.0</td>\n",
       "      <td>1.0</td>\n",
       "    </tr>\n",
       "    <tr>\n",
       "      <th>8</th>\n",
       "      <td>Glasses</td>\n",
       "      <td>AI</td>\n",
       "      <td>33</td>\n",
       "      <td>35</td>\n",
       "      <td>32</td>\n",
       "      <td>3</td>\n",
       "      <td>49000.00</td>\n",
       "      <td>7500.00</td>\n",
       "      <td>3</td>\n",
       "      <td>1.0</td>\n",
       "      <td>0.0</td>\n",
       "      <td>0.0</td>\n",
       "    </tr>\n",
       "    <tr>\n",
       "      <th>9</th>\n",
       "      <td>Glasses</td>\n",
       "      <td>Search Engine</td>\n",
       "      <td>56</td>\n",
       "      <td>44</td>\n",
       "      <td>37</td>\n",
       "      <td>7</td>\n",
       "      <td>62711.45</td>\n",
       "      <td>24441.71</td>\n",
       "      <td>2</td>\n",
       "      <td>0.0</td>\n",
       "      <td>0.0</td>\n",
       "      <td>1.0</td>\n",
       "    </tr>\n",
       "    <tr>\n",
       "      <th>10</th>\n",
       "      <td>Cheerper</td>\n",
       "      <td>BigData</td>\n",
       "      <td>42</td>\n",
       "      <td>48</td>\n",
       "      <td>44</td>\n",
       "      <td>4</td>\n",
       "      <td>156500.00</td>\n",
       "      <td>9500.00</td>\n",
       "      <td>2</td>\n",
       "      <td>0.0</td>\n",
       "      <td>1.0</td>\n",
       "      <td>0.0</td>\n",
       "    </tr>\n",
       "    <tr>\n",
       "      <th>11</th>\n",
       "      <td>Cheerper</td>\n",
       "      <td>Support</td>\n",
       "      <td>80</td>\n",
       "      <td>34</td>\n",
       "      <td>30</td>\n",
       "      <td>4</td>\n",
       "      <td>89500.00</td>\n",
       "      <td>6000.00</td>\n",
       "      <td>4</td>\n",
       "      <td>0.0</td>\n",
       "      <td>1.0</td>\n",
       "      <td>0.0</td>\n",
       "    </tr>\n",
       "  </tbody>\n",
       "</table>\n",
       "</div>"
      ],
      "text/plain": [
       "     company     department  employee_id  age  age_when_joined  \\\n",
       "0       Pear          Sales            1   34               27   \n",
       "1       Pear         Design            5   41               40   \n",
       "2    Glasses             AI            1   45               37   \n",
       "3    Glasses  Search Engine            7   38               36   \n",
       "4   Cheerper        BigData            6   48               45   \n",
       "5   Cheerper        Support           11   42               33   \n",
       "6       Pear          Sales           28   49               43   \n",
       "7       Pear         Design           75   45               39   \n",
       "8    Glasses             AI           33   35               32   \n",
       "9    Glasses  Search Engine           56   44               37   \n",
       "10  Cheerper        BigData           42   48               44   \n",
       "11  Cheerper        Support           80   34               30   \n",
       "\n",
       "    years_in_the_company     salary  annual_bonus  prior_years_experience  \\\n",
       "0                      7   78500.00      10500.00                       3   \n",
       "1                      1   45960.55      11115.47                       2   \n",
       "2                      8   58500.00       6000.00                       5   \n",
       "3                      2  121489.44      15194.26                       3   \n",
       "4                      3   33000.00      23500.00                       4   \n",
       "5                      9   36500.00       9000.00                       3   \n",
       "6                      6   48500.00       6500.00                       5   \n",
       "7                      6   91072.47      19286.46                       5   \n",
       "8                      3   49000.00       7500.00                       3   \n",
       "9                      7   62711.45      24441.71                       2   \n",
       "10                     4  156500.00       9500.00                       2   \n",
       "11                     4   89500.00       6000.00                       4   \n",
       "\n",
       "    full_time  part_time  contractor  \n",
       "0         1.0        0.0         0.0  \n",
       "1         0.0        0.0         1.0  \n",
       "2         1.0        0.0         0.0  \n",
       "3         0.0        0.0         1.0  \n",
       "4         0.0        1.0         0.0  \n",
       "5         0.0        1.0         0.0  \n",
       "6         1.0        0.0         0.0  \n",
       "7         0.0        0.0         1.0  \n",
       "8         1.0        0.0         0.0  \n",
       "9         0.0        0.0         1.0  \n",
       "10        0.0        1.0         0.0  \n",
       "11        0.0        1.0         0.0  "
      ]
     },
     "execution_count": 2,
     "metadata": {},
     "output_type": "execute_result"
    }
   ],
   "source": [
    "from sdv.demo import load_tabular_demo\n",
    "\n",
    "employees = load_tabular_demo()\n",
    "employees"
   ]
  },
  {
   "cell_type": "markdown",
   "id": "5413a864",
   "metadata": {},
   "source": [
    "## How does SDV Handle Constraints?\n",
    "\n",
    "### Transform Strategy\n",
    "When using this strategy, SDV applies a transformation to the data before learning it in a way that allows the model to better capture the data properties. For example, if we have one column that needs to be always greater than the other one, SDV can do the following:\n",
    "- Replace the higher column with the difference between the two columns, which will always be positive.\n",
    "- Model the transformed data and sample new values.\n",
    "- Recompute the value of the high column by adding the values of the lower column to it.\n",
    "\n",
    "The Transform strategy is very efficient and does not affect the speed of the modeling and sampling process, but in some cases might affect the quality of the learning process or simply not be possible.\n",
    "\n",
    "### Reject Sampling Strategy\n",
    "In the cases where applying a Transform strategy is not possible or may affect the quality of the learning process, SDV can apply a Reject Sampling strategy.\n",
    "\n",
    "When using this strategy, SDV validates the sampled rows, discards the ones that do not adjust to the constraint, and re-samples them. This process is repeated until enough rows have been sampled.\n"
   ]
  },
  {
   "cell_type": "markdown",
   "id": "e5e81df1",
   "metadata": {},
   "source": [
    "## SVD Framework Predefined Constraints"
   ]
  },
  {
   "cell_type": "markdown",
   "id": "8e308307",
   "metadata": {},
   "source": [
    "### Unique Constraint"
   ]
  },
  {
   "cell_type": "code",
   "execution_count": 3,
   "id": "ba4595b1",
   "metadata": {},
   "outputs": [],
   "source": [
    "from sdv.constraints import Unique\n",
    "\n",
    "unique_employee_id_company_constraint = Unique(columns=['employee_id', 'company'])"
   ]
  },
  {
   "cell_type": "markdown",
   "id": "ead0d29a",
   "metadata": {},
   "source": [
    "### UniqueCombinations Constraint"
   ]
  },
  {
   "cell_type": "code",
   "execution_count": 4,
   "id": "f0c94eb9",
   "metadata": {},
   "outputs": [],
   "source": [
    "from sdv.constraints import UniqueCombinations\n",
    "\n",
    "unique_company_department_constraint = UniqueCombinations(columns=['company', 'department'],\n",
    "                                                          handling_strategy='transform', # 'reject_sampling'\n",
    "                                                         )"
   ]
  },
  {
   "cell_type": "markdown",
   "id": "d04270f7",
   "metadata": {},
   "source": [
    "### GreaterThan Constraint"
   ]
  },
  {
   "cell_type": "code",
   "execution_count": 5,
   "id": "c0ecaa60",
   "metadata": {},
   "outputs": [],
   "source": [
    "from sdv.constraints import GreaterThan\n",
    "\n",
    "age_gt_age_when_joined_constraint = GreaterThan(low='age_when_joined',\n",
    "                                                high='age',\n",
    "                                                handling_strategy='reject_sampling'\n",
    "                                               )"
   ]
  },
  {
   "cell_type": "markdown",
   "id": "5357bf0b",
   "metadata": {},
   "source": [
    "**Lower or higher than a scalar value or specific datetime**"
   ]
  },
  {
   "cell_type": "code",
   "execution_count": 6,
   "id": "5813d521",
   "metadata": {},
   "outputs": [],
   "source": [
    "salary_gt_30000_constraint = GreaterThan(low=30000,\n",
    "                                         high=['salary'], # or 'salary'\n",
    "                                         scalar='low',\n",
    "                                         handling_strategy='reject_sampling'\n",
    "                                        )"
   ]
  },
  {
   "cell_type": "markdown",
   "id": "79aaacdd",
   "metadata": {},
   "source": [
    "### Positive and Negative Constraints"
   ]
  },
  {
   "cell_type": "code",
   "execution_count": 7,
   "id": "b9e36cf1",
   "metadata": {},
   "outputs": [],
   "source": [
    "from sdv.constraints import Positive\n",
    "\n",
    "positive_age_constraint = Positive(columns='age',\n",
    "                                   strict=False,\n",
    "                                   handling_strategy='reject_sampling'\n",
    "                                  )"
   ]
  },
  {
   "cell_type": "markdown",
   "id": "e143981e",
   "metadata": {},
   "source": [
    "### ColumnFormula Constraint"
   ]
  },
  {
   "cell_type": "code",
   "execution_count": 8,
   "id": "dac351b5",
   "metadata": {},
   "outputs": [],
   "source": [
    "from sdv.constraints import ColumnFormula"
   ]
  },
  {
   "cell_type": "code",
   "execution_count": 9,
   "id": "59a605be",
   "metadata": {},
   "outputs": [],
   "source": [
    "def years_in_the_company(data):\n",
    "    return data['age'] - data['age_when_joined']"
   ]
  },
  {
   "cell_type": "code",
   "execution_count": 10,
   "id": "0e026942",
   "metadata": {},
   "outputs": [],
   "source": [
    "years_in_the_company_constraint = ColumnFormula(column='years_in_the_company',\n",
    "                                                formula=years_in_the_company,\n",
    "                                                handling_strategy='transform'\n",
    "                                               )"
   ]
  },
  {
   "cell_type": "markdown",
   "id": "41f7c987",
   "metadata": {},
   "source": [
    "### Rounding Constraint"
   ]
  },
  {
   "cell_type": "code",
   "execution_count": 11,
   "id": "692aaca8",
   "metadata": {},
   "outputs": [],
   "source": [
    "from sdv.constraints import Rounding\n",
    "\n",
    "salary_rounding_constraint = Rounding(columns='salary',\n",
    "                                      digits=2,\n",
    "                                      handling_strategy='transform'\n",
    "                                     )"
   ]
  },
  {
   "cell_type": "markdown",
   "id": "a96f042e",
   "metadata": {},
   "source": [
    "### Between Constraint"
   ]
  },
  {
   "cell_type": "code",
   "execution_count": 12,
   "id": "b79a92ae",
   "metadata": {},
   "outputs": [],
   "source": [
    "from sdv.constraints import Between\n",
    "\n",
    "reasonable_age_constraint = Between(column='age',\n",
    "                                    low=15,\n",
    "                                    high=90,\n",
    "                                    handling_strategy='transform'\n",
    "                                   )"
   ]
  },
  {
   "cell_type": "markdown",
   "id": "b83334ca",
   "metadata": {},
   "source": [
    "### OneHotEncoding Constraint"
   ]
  },
  {
   "cell_type": "code",
   "execution_count": 13,
   "id": "fa4a4b08",
   "metadata": {},
   "outputs": [],
   "source": [
    "from sdv.constraints import OneHotEncoding\n",
    "\n",
    "one_hot_constraint = OneHotEncoding(columns=['full_time', 'part_time', 'contractor'])"
   ]
  },
  {
   "cell_type": "markdown",
   "id": "640e766e",
   "metadata": {},
   "source": [
    "## Using the CustomConstraint"
   ]
  },
  {
   "cell_type": "code",
   "execution_count": 14,
   "id": "56f2549a",
   "metadata": {},
   "outputs": [],
   "source": [
    "from sdv.constraints import CustomConstraint"
   ]
  },
  {
   "cell_type": "markdown",
   "id": "5e51f741",
   "metadata": {},
   "source": [
    "### Apply constraint to one column"
   ]
  },
  {
   "cell_type": "code",
   "execution_count": 15,
   "id": "ec286f05",
   "metadata": {},
   "outputs": [],
   "source": [
    "def transform(table_data):\n",
    "    base = 500.\n",
    "    table_data['salary'] = table_data['salary'] / base\n",
    "    return table_data"
   ]
  },
  {
   "cell_type": "code",
   "execution_count": 16,
   "id": "5bf44e1c",
   "metadata": {},
   "outputs": [],
   "source": [
    "def reverse_transform(table_data):\n",
    "    base = 500.\n",
    "    table_data['salary'] = table_data['salary'].round() * base\n",
    "    return table_data"
   ]
  },
  {
   "cell_type": "code",
   "execution_count": 17,
   "id": "3577b4fd",
   "metadata": {},
   "outputs": [],
   "source": [
    "custome_column_constraint = CustomConstraint(transform=transform, reverse_transform=reverse_transform)"
   ]
  },
  {
   "cell_type": "markdown",
   "id": "ef715963",
   "metadata": {},
   "source": [
    "### Constraint to multiple columns"
   ]
  },
  {
   "cell_type": "code",
   "execution_count": 18,
   "id": "f1c0c6ee",
   "metadata": {},
   "outputs": [],
   "source": [
    "def transform(column_data):\n",
    "    base = 500.\n",
    "    return column_data / base"
   ]
  },
  {
   "cell_type": "code",
   "execution_count": 19,
   "id": "1dfe81cf",
   "metadata": {},
   "outputs": [],
   "source": [
    "def reverse_transform(column_data):\n",
    "    base = 500.\n",
    "    return column_data.round() * base"
   ]
  },
  {
   "cell_type": "code",
   "execution_count": 20,
   "id": "4288464e",
   "metadata": {},
   "outputs": [],
   "source": [
    "multiple_columns_constraint = CustomConstraint(columns=['salary', 'annual_bonus'],\n",
    "                              transform=transform,\n",
    "                              reverse_transform=reverse_transform\n",
    "                             )"
   ]
  },
  {
   "cell_type": "markdown",
   "id": "9ae39182",
   "metadata": {},
   "source": [
    "### Constrain with condition from other columns"
   ]
  },
  {
   "cell_type": "code",
   "execution_count": 21,
   "id": "25866580",
   "metadata": {},
   "outputs": [],
   "source": [
    "def transform(table_data, column):\n",
    "    base = 500.\n",
    "    table_data[column] = table_data[column] / base\n",
    "    return table_data"
   ]
  },
  {
   "cell_type": "code",
   "execution_count": 22,
   "id": "00cc6988",
   "metadata": {},
   "outputs": [],
   "source": [
    "def reverse_transform(table_data, column):\n",
    "    base = 500.\n",
    "    is_not_contractor = table_data[\"contractor\"] == 0.\n",
    "    table_data[column] = table_data[column].round(4)\n",
    "    table_data[column].loc[is_not_contractor] = table_data[column].loc[is_not_contractor].round()\n",
    "    table_data[column] *= base\n",
    "    return table_data"
   ]
  },
  {
   "cell_type": "code",
   "execution_count": 23,
   "id": "0ae12661",
   "metadata": {},
   "outputs": [],
   "source": [
    "multiple_columns_with_condition_constraint = CustomConstraint(columns=['salary', 'annual_bonus'],\n",
    "                                                              transform=transform,\n",
    "                                                              reverse_transform=reverse_transform\n",
    "                                                             )"
   ]
  },
  {
   "cell_type": "markdown",
   "id": "9572a1a3",
   "metadata": {},
   "source": [
    "### Constrain based on reject sampling"
   ]
  },
  {
   "cell_type": "code",
   "execution_count": 24,
   "id": "38058215",
   "metadata": {},
   "outputs": [],
   "source": [
    "def is_valid(table_data):\n",
    "    base = 500.\n",
    "    return table_data['salary'] % base == 0\n",
    "\n",
    "def is_valid(column_data):\n",
    "    base = 500.\n",
    "    return column_data % base == 0\n",
    "\n",
    "def is_valid(table_data, column):\n",
    "    base = 500.\n",
    "    is_contractor = table_data.contractor == 1\n",
    "    valid = table_data[column] % base == 0\n",
    "    contractor_salary = employees['salary'].loc[is_contractor]\n",
    "    valid.loc[is_contractor] = contractor_salary == contractor_salary.round(2)\n",
    "    return valid"
   ]
  },
  {
   "cell_type": "code",
   "execution_count": 25,
   "id": "5325067a",
   "metadata": {},
   "outputs": [],
   "source": [
    "custom_reject_constraint = CustomConstraint(\n",
    "                                            columns=['salary', 'annual_bonus'],\n",
    "                                            is_valid=is_valid\n",
    "                                           )"
   ]
  },
  {
   "cell_type": "markdown",
   "id": "0d655e98",
   "metadata": {},
   "source": [
    "## Using the Constraints in Synthesize model"
   ]
  },
  {
   "cell_type": "code",
   "execution_count": 26,
   "id": "52b32f4e",
   "metadata": {},
   "outputs": [],
   "source": [
    "from sdv.tabular import GaussianCopula\n",
    "\n",
    "constraints = [unique_employee_id_company_constraint,\n",
    "               unique_company_department_constraint,\n",
    "               age_gt_age_when_joined_constraint,\n",
    "               salary_gt_30000_constraint,\n",
    "               positive_age_constraint,\n",
    "               years_in_the_company_constraint,\n",
    "               salary_rounding_constraint,\n",
    "               reasonable_age_constraint,\n",
    "               one_hot_constraint,\n",
    "               multiple_columns_with_condition_constraint,\n",
    "#                custom_reject_constraint,\n",
    "              ]\n",
    "\n",
    "model = GaussianCopula(constraints=constraints)"
   ]
  },
  {
   "cell_type": "code",
   "execution_count": 27,
   "id": "41505c57",
   "metadata": {},
   "outputs": [],
   "source": [
    "model.fit(employees)"
   ]
  },
  {
   "cell_type": "code",
   "execution_count": 28,
   "id": "67a4d8f9",
   "metadata": {},
   "outputs": [],
   "source": [
    "sampled = model.sample(100)"
   ]
  },
  {
   "cell_type": "code",
   "execution_count": 29,
   "id": "345ad836",
   "metadata": {},
   "outputs": [
    {
     "data": {
      "text/html": [
       "<div>\n",
       "<style scoped>\n",
       "    .dataframe tbody tr th:only-of-type {\n",
       "        vertical-align: middle;\n",
       "    }\n",
       "\n",
       "    .dataframe tbody tr th {\n",
       "        vertical-align: top;\n",
       "    }\n",
       "\n",
       "    .dataframe thead th {\n",
       "        text-align: right;\n",
       "    }\n",
       "</style>\n",
       "<table border=\"1\" class=\"dataframe\">\n",
       "  <thead>\n",
       "    <tr style=\"text-align: right;\">\n",
       "      <th></th>\n",
       "      <th>company</th>\n",
       "      <th>department</th>\n",
       "      <th>employee_id</th>\n",
       "      <th>age</th>\n",
       "      <th>age_when_joined</th>\n",
       "      <th>years_in_the_company</th>\n",
       "      <th>salary</th>\n",
       "      <th>annual_bonus</th>\n",
       "      <th>prior_years_experience</th>\n",
       "      <th>full_time</th>\n",
       "      <th>part_time</th>\n",
       "      <th>contractor</th>\n",
       "    </tr>\n",
       "  </thead>\n",
       "  <tbody>\n",
       "    <tr>\n",
       "      <th>0</th>\n",
       "      <td>Cheerper</td>\n",
       "      <td>BigData</td>\n",
       "      <td>27</td>\n",
       "      <td>42</td>\n",
       "      <td>41</td>\n",
       "      <td>1</td>\n",
       "      <td>63000.00</td>\n",
       "      <td>24500.00</td>\n",
       "      <td>4</td>\n",
       "      <td>0.0</td>\n",
       "      <td>1.0</td>\n",
       "      <td>0.0</td>\n",
       "    </tr>\n",
       "    <tr>\n",
       "      <th>1</th>\n",
       "      <td>Cheerper</td>\n",
       "      <td>BigData</td>\n",
       "      <td>42</td>\n",
       "      <td>43</td>\n",
       "      <td>39</td>\n",
       "      <td>4</td>\n",
       "      <td>117500.00</td>\n",
       "      <td>10500.00</td>\n",
       "      <td>3</td>\n",
       "      <td>0.0</td>\n",
       "      <td>1.0</td>\n",
       "      <td>0.0</td>\n",
       "    </tr>\n",
       "    <tr>\n",
       "      <th>2</th>\n",
       "      <td>Pear</td>\n",
       "      <td>Design</td>\n",
       "      <td>6</td>\n",
       "      <td>41</td>\n",
       "      <td>38</td>\n",
       "      <td>3</td>\n",
       "      <td>84000.00</td>\n",
       "      <td>15000.00</td>\n",
       "      <td>4</td>\n",
       "      <td>1.0</td>\n",
       "      <td>0.0</td>\n",
       "      <td>0.0</td>\n",
       "    </tr>\n",
       "    <tr>\n",
       "      <th>3</th>\n",
       "      <td>Cheerper</td>\n",
       "      <td>BigData</td>\n",
       "      <td>62</td>\n",
       "      <td>59</td>\n",
       "      <td>45</td>\n",
       "      <td>14</td>\n",
       "      <td>55439.95</td>\n",
       "      <td>15174.65</td>\n",
       "      <td>4</td>\n",
       "      <td>0.0</td>\n",
       "      <td>1.0</td>\n",
       "      <td>0.0</td>\n",
       "    </tr>\n",
       "    <tr>\n",
       "      <th>4</th>\n",
       "      <td>Cheerper</td>\n",
       "      <td>BigData</td>\n",
       "      <td>30</td>\n",
       "      <td>39</td>\n",
       "      <td>38</td>\n",
       "      <td>1</td>\n",
       "      <td>42870.35</td>\n",
       "      <td>24441.70</td>\n",
       "      <td>2</td>\n",
       "      <td>0.0</td>\n",
       "      <td>0.0</td>\n",
       "      <td>1.0</td>\n",
       "    </tr>\n",
       "    <tr>\n",
       "      <th>...</th>\n",
       "      <td>...</td>\n",
       "      <td>...</td>\n",
       "      <td>...</td>\n",
       "      <td>...</td>\n",
       "      <td>...</td>\n",
       "      <td>...</td>\n",
       "      <td>...</td>\n",
       "      <td>...</td>\n",
       "      <td>...</td>\n",
       "      <td>...</td>\n",
       "      <td>...</td>\n",
       "      <td>...</td>\n",
       "    </tr>\n",
       "    <tr>\n",
       "      <th>96</th>\n",
       "      <td>Glasses</td>\n",
       "      <td>Search Engine</td>\n",
       "      <td>70</td>\n",
       "      <td>37</td>\n",
       "      <td>33</td>\n",
       "      <td>4</td>\n",
       "      <td>89876.45</td>\n",
       "      <td>13275.85</td>\n",
       "      <td>3</td>\n",
       "      <td>0.0</td>\n",
       "      <td>0.0</td>\n",
       "      <td>1.0</td>\n",
       "    </tr>\n",
       "    <tr>\n",
       "      <th>97</th>\n",
       "      <td>Pear</td>\n",
       "      <td>Sales</td>\n",
       "      <td>19</td>\n",
       "      <td>42</td>\n",
       "      <td>36</td>\n",
       "      <td>6</td>\n",
       "      <td>68145.65</td>\n",
       "      <td>8015.80</td>\n",
       "      <td>4</td>\n",
       "      <td>1.0</td>\n",
       "      <td>0.0</td>\n",
       "      <td>0.0</td>\n",
       "    </tr>\n",
       "    <tr>\n",
       "      <th>99</th>\n",
       "      <td>Cheerper</td>\n",
       "      <td>BigData</td>\n",
       "      <td>24</td>\n",
       "      <td>37</td>\n",
       "      <td>35</td>\n",
       "      <td>2</td>\n",
       "      <td>97000.00</td>\n",
       "      <td>9500.00</td>\n",
       "      <td>3</td>\n",
       "      <td>0.0</td>\n",
       "      <td>1.0</td>\n",
       "      <td>0.0</td>\n",
       "    </tr>\n",
       "    <tr>\n",
       "      <th>101</th>\n",
       "      <td>Glasses</td>\n",
       "      <td>AI</td>\n",
       "      <td>25</td>\n",
       "      <td>42</td>\n",
       "      <td>39</td>\n",
       "      <td>3</td>\n",
       "      <td>33000.00</td>\n",
       "      <td>17104.45</td>\n",
       "      <td>3</td>\n",
       "      <td>0.0</td>\n",
       "      <td>0.0</td>\n",
       "      <td>1.0</td>\n",
       "    </tr>\n",
       "    <tr>\n",
       "      <th>103</th>\n",
       "      <td>Cheerper</td>\n",
       "      <td>Support</td>\n",
       "      <td>29</td>\n",
       "      <td>30</td>\n",
       "      <td>27</td>\n",
       "      <td>3</td>\n",
       "      <td>100500.00</td>\n",
       "      <td>7500.00</td>\n",
       "      <td>2</td>\n",
       "      <td>1.0</td>\n",
       "      <td>0.0</td>\n",
       "      <td>0.0</td>\n",
       "    </tr>\n",
       "  </tbody>\n",
       "</table>\n",
       "<p>100 rows × 12 columns</p>\n",
       "</div>"
      ],
      "text/plain": [
       "      company     department  employee_id  age  age_when_joined  \\\n",
       "0    Cheerper        BigData           27   42               41   \n",
       "1    Cheerper        BigData           42   43               39   \n",
       "2        Pear         Design            6   41               38   \n",
       "3    Cheerper        BigData           62   59               45   \n",
       "4    Cheerper        BigData           30   39               38   \n",
       "..        ...            ...          ...  ...              ...   \n",
       "96    Glasses  Search Engine           70   37               33   \n",
       "97       Pear          Sales           19   42               36   \n",
       "99   Cheerper        BigData           24   37               35   \n",
       "101   Glasses             AI           25   42               39   \n",
       "103  Cheerper        Support           29   30               27   \n",
       "\n",
       "     years_in_the_company     salary  annual_bonus  prior_years_experience  \\\n",
       "0                       1   63000.00      24500.00                       4   \n",
       "1                       4  117500.00      10500.00                       3   \n",
       "2                       3   84000.00      15000.00                       4   \n",
       "3                      14   55439.95      15174.65                       4   \n",
       "4                       1   42870.35      24441.70                       2   \n",
       "..                    ...        ...           ...                     ...   \n",
       "96                      4   89876.45      13275.85                       3   \n",
       "97                      6   68145.65       8015.80                       4   \n",
       "99                      2   97000.00       9500.00                       3   \n",
       "101                     3   33000.00      17104.45                       3   \n",
       "103                     3  100500.00       7500.00                       2   \n",
       "\n",
       "     full_time  part_time  contractor  \n",
       "0          0.0        1.0         0.0  \n",
       "1          0.0        1.0         0.0  \n",
       "2          1.0        0.0         0.0  \n",
       "3          0.0        1.0         0.0  \n",
       "4          0.0        0.0         1.0  \n",
       "..         ...        ...         ...  \n",
       "96         0.0        0.0         1.0  \n",
       "97         1.0        0.0         0.0  \n",
       "99         0.0        1.0         0.0  \n",
       "101        0.0        0.0         1.0  \n",
       "103        1.0        0.0         0.0  \n",
       "\n",
       "[100 rows x 12 columns]"
      ]
     },
     "execution_count": 29,
     "metadata": {},
     "output_type": "execute_result"
    }
   ],
   "source": [
    "sampled"
   ]
  }
 ],
 "metadata": {
  "kernelspec": {
   "display_name": "Python 3 (ipykernel)",
   "language": "python",
   "name": "python3"
  },
  "language_info": {
   "codemirror_mode": {
    "name": "ipython",
    "version": 3
   },
   "file_extension": ".py",
   "mimetype": "text/x-python",
   "name": "python",
   "nbconvert_exporter": "python",
   "pygments_lexer": "ipython3",
   "version": "3.8.12"
  },
  "toc": {
   "base_numbering": 1,
   "nav_menu": {},
   "number_sections": true,
   "sideBar": true,
   "skip_h1_title": true,
   "title_cell": "Table of Contents",
   "title_sidebar": "Contents",
   "toc_cell": false,
   "toc_position": {
    "height": "calc(100% - 180px)",
    "left": "10px",
    "top": "150px",
    "width": "300px"
   },
   "toc_section_display": true,
   "toc_window_display": true
  }
 },
 "nbformat": 4,
 "nbformat_minor": 5
}
