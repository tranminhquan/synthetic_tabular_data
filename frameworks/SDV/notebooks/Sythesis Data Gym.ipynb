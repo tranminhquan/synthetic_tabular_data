{
 "cells": [
  {
   "cell_type": "code",
   "execution_count": 1,
   "id": "c9b2cf71",
   "metadata": {},
   "outputs": [],
   "source": [
    "import numpy as np\n",
    "from sdv.tabular import GaussianCopula\n",
    "\n",
    "\n",
    "def gaussian_copula(real_data, metadata):\n",
    "    gc = GaussianCopula(default_distribution='gaussian')\n",
    "    table_name = metadata.get_tables()[0]\n",
    "    gc.fit(real_data[table_name])\n",
    "    return {table_name: gc.sample()}"
   ]
  },
  {
   "cell_type": "code",
   "execution_count": 2,
   "id": "d608223b",
   "metadata": {},
   "outputs": [],
   "source": [
    "import sdgym\n",
    "\n",
    "scores = sdgym.run(synthesizers=gaussian_copula, datasets=['asia', 'alarm'])"
   ]
  },
  {
   "cell_type": "code",
   "execution_count": 4,
   "id": "01261f53",
   "metadata": {},
   "outputs": [
    {
     "data": {
      "text/html": [
       "<div>\n",
       "<style scoped>\n",
       "    .dataframe tbody tr th:only-of-type {\n",
       "        vertical-align: middle;\n",
       "    }\n",
       "\n",
       "    .dataframe tbody tr th {\n",
       "        vertical-align: top;\n",
       "    }\n",
       "\n",
       "    .dataframe thead th {\n",
       "        text-align: right;\n",
       "    }\n",
       "</style>\n",
       "<table border=\"1\" class=\"dataframe\">\n",
       "  <thead>\n",
       "    <tr style=\"text-align: right;\">\n",
       "      <th></th>\n",
       "      <th>synthesizer</th>\n",
       "      <th>dataset</th>\n",
       "      <th>modality</th>\n",
       "      <th>iteration</th>\n",
       "      <th>metric</th>\n",
       "      <th>error</th>\n",
       "      <th>score</th>\n",
       "      <th>normalized_score</th>\n",
       "      <th>metric_time</th>\n",
       "      <th>model_time</th>\n",
       "      <th>run_id</th>\n",
       "    </tr>\n",
       "  </thead>\n",
       "  <tbody>\n",
       "    <tr>\n",
       "      <th>0</th>\n",
       "      <td>gaussian_copula</td>\n",
       "      <td>asia</td>\n",
       "      <td>single-table</td>\n",
       "      <td>0</td>\n",
       "      <td>BNLogLikelihood</td>\n",
       "      <td>None</td>\n",
       "      <td>-2.832011</td>\n",
       "      <td>5.889428e-02</td>\n",
       "      <td>3.348623</td>\n",
       "      <td>0.273887</td>\n",
       "      <td>e4cbd4a4-3</td>\n",
       "    </tr>\n",
       "    <tr>\n",
       "      <th>0</th>\n",
       "      <td>gaussian_copula</td>\n",
       "      <td>alarm</td>\n",
       "      <td>single-table</td>\n",
       "      <td>0</td>\n",
       "      <td>BNLogLikelihood</td>\n",
       "      <td>None</td>\n",
       "      <td>-19.624519</td>\n",
       "      <td>3.000403e-09</td>\n",
       "      <td>12.668907</td>\n",
       "      <td>1.601615</td>\n",
       "      <td>e4cbd4a4-3</td>\n",
       "    </tr>\n",
       "  </tbody>\n",
       "</table>\n",
       "</div>"
      ],
      "text/plain": [
       "       synthesizer dataset      modality  iteration           metric error  \\\n",
       "0  gaussian_copula    asia  single-table          0  BNLogLikelihood  None   \n",
       "0  gaussian_copula   alarm  single-table          0  BNLogLikelihood  None   \n",
       "\n",
       "       score  normalized_score  metric_time  model_time      run_id  \n",
       "0  -2.832011      5.889428e-02     3.348623    0.273887  e4cbd4a4-3  \n",
       "0 -19.624519      3.000403e-09    12.668907    1.601615  e4cbd4a4-3  "
      ]
     },
     "execution_count": 4,
     "metadata": {},
     "output_type": "execute_result"
    }
   ],
   "source": [
    "scores"
   ]
  },
  {
   "cell_type": "code",
   "execution_count": 14,
   "id": "63bd5a50",
   "metadata": {},
   "outputs": [],
   "source": [
    "from sdgym.synthesizers import CLBN,Identity,Independent,MedGAN,PrivBN,\\\n",
    "                               TableGAN,CTGAN,Uniform,VEEGAN,CopulaGAN,\\\n",
    "                               GaussianCopulaCategorical,GaussianCopulaCategoricalFuzzy,\\\n",
    "                               GaussianCopulaOneHot,Gretel,PreprocessedGretel,VanillaGAN,\\\n",
    "                               DRAGAN,WGAN_GP,PreprocessedDRAGAN,PreprocessedWGAN_GP,\\\n",
    "                               PreprocessedVanillaGAN"
   ]
  },
  {
   "cell_type": "code",
   "execution_count": 15,
   "id": "b4e7145e",
   "metadata": {},
   "outputs": [],
   "source": [
    "all_synthesizers = [CLBN,Identity,Independent,MedGAN,PrivBN,TableGAN,CTGAN,Uniform,\n",
    "                    VEEGAN,CopulaGAN,GaussianCopulaCategorical,\n",
    "                    GaussianCopulaCategoricalFuzzy,GaussianCopulaOneHot,\n",
    "                    Gretel,PreprocessedGretel,VanillaGAN,DRAGAN,WGAN_GP,\n",
    "                    PreprocessedDRAGAN,PreprocessedWGAN_GP,PreprocessedVanillaGAN,]"
   ]
  },
  {
   "cell_type": "code",
   "execution_count": null,
   "id": "ad5b2021",
   "metadata": {},
   "outputs": [],
   "source": [
    "scores = sdgym.run(synthesizers=all_synthesizers)"
   ]
  }
 ],
 "metadata": {
  "kernelspec": {
   "display_name": "Python 3 (ipykernel)",
   "language": "python",
   "name": "python3"
  },
  "language_info": {
   "codemirror_mode": {
    "name": "ipython",
    "version": 3
   },
   "file_extension": ".py",
   "mimetype": "text/x-python",
   "name": "python",
   "nbconvert_exporter": "python",
   "pygments_lexer": "ipython3",
   "version": "3.8.12"
  },
  "toc": {
   "base_numbering": 1,
   "nav_menu": {},
   "number_sections": true,
   "sideBar": true,
   "skip_h1_title": true,
   "title_cell": "Table of Contents",
   "title_sidebar": "Contents",
   "toc_cell": false,
   "toc_position": {},
   "toc_section_display": true,
   "toc_window_display": false
  }
 },
 "nbformat": 4,
 "nbformat_minor": 5
}
