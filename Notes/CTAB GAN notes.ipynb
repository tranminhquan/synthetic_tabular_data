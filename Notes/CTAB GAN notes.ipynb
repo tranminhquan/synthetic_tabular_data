{
 "cells": [
  {
   "cell_type": "markdown",
   "id": "26982dc9",
   "metadata": {},
   "source": [
    "CTAB-GAN addresses the limitations of the prior state-of-the-art:\n",
    "- encoding mixed data type of continuous and categorical variables\n",
    "- efficient modeling of long tail continuous variables\n",
    "- increased robustness to imbalanced categorical variables along with skewed continuous variables. \n",
    "\n",
    "Furthermore, two key features of CTAB-GAN are the introduction of classification loss *(which is not clearly descibed in paper)* in conditional GAN, and novel encoding for the conditional vector that efficiently encodes mixed variables and helps to deal with highly skewed distributions for continuous variables."
   ]
  },
  {
   "cell_type": "code",
   "execution_count": 44,
   "id": "bf55e45f",
   "metadata": {},
   "outputs": [],
   "source": [
    "import numpy as np\n",
    "import matplotlib.pyplot as plt\n",
    "\n",
    "def treat_long_tail(s):\n",
    "    e = 1e-6\n",
    "    l = min(s.min(),0)\n",
    "    return np.log(s-l+e) if l <= 0 else np.log(s)"
   ]
  },
  {
   "cell_type": "code",
   "execution_count": 45,
   "id": "d160124c",
   "metadata": {
    "scrolled": true
   },
   "outputs": [
    {
     "data": {
      "image/png": "[encoded data removed]",
      "text/plain": [
       "<Figure size 432x288 with 1 Axes>"
      ]
     },
     "metadata": {
      "needs_background": "light"
     },
     "output_type": "display_data"
    }
   ],
   "source": [
    "mu, sigma = 0., 1. # mean and standard deviation\n",
    "s = np.random.lognormal(mu, sigma, 1000)\n",
    "count, bins, ignored = plt.hist(s, 100, density=True)\n",
    "count, bins, ignored = plt.hist(treat_long_tail(s), 100, density=True)"
   ]
  },
  {
   "cell_type": "code",
   "execution_count": 46,
   "id": "376bb3ea",
   "metadata": {},
   "outputs": [
    {
     "data": {
      "image/png": "[encoded data removed]",
      "text/plain": [
       "<Figure size 432x288 with 1 Axes>"
      ]
     },
     "metadata": {
      "needs_background": "light"
     },
     "output_type": "display_data"
    }
   ],
   "source": [
    "mu, sigma = 0., 1. # mean and standard deviation\n",
    "s = np.random.lognormal(mu, sigma, 1000)-10\n",
    "count, bins, ignored = plt.hist(s, 100, density=True)\n",
    "count, bins, ignored = plt.hist(treat_long_tail(s), 100, density=True)"
   ]
  },
  {
   "cell_type": "markdown",
   "id": "371edcce",
   "metadata": {},
   "source": [
    "This experiment show that the `treat_long_tail` method proposed in CTAB-GAN depends on the type of long tail distribution. With the "
   ]
  },
  {
   "cell_type": "code",
   "execution_count": 48,
   "id": "917ceba8",
   "metadata": {},
   "outputs": [
    {
     "data": {
      "image/png": "[encoded data removed]",
      "text/plain": [
       "<Figure size 432x288 with 1 Axes>"
      ]
     },
     "metadata": {
      "needs_background": "light"
     },
     "output_type": "display_data"
    }
   ],
   "source": [
    "mu, sigma = 0., 1. # mean and standard deviation\n",
    "s = -np.random.lognormal(mu, sigma, 1000)+5\n",
    "count, bins, ignored = plt.hist(s, 100, density=True)\n",
    "count, bins, ignored = plt.hist(treat_long_tail(s), 100, density=True)"
   ]
  }
 ],
 "metadata": {
  "kernelspec": {
   "display_name": "Python 3 (ipykernel)",
   "language": "python",
   "name": "python3"
  },
  "language_info": {
   "codemirror_mode": {
    "name": "ipython",
    "version": 3
   },
   "file_extension": ".py",
   "mimetype": "text/x-python",
   "name": "python",
   "nbconvert_exporter": "python",
   "pygments_lexer": "ipython3",
   "version": "3.8.12"
  },
  "toc": {
   "base_numbering": 1,
   "nav_menu": {},
   "number_sections": true,
   "sideBar": true,
   "skip_h1_title": true,
   "title_cell": "Table of Contents",
   "title_sidebar": "Contents",
   "toc_cell": false,
   "toc_position": {},
   "toc_section_display": true,
   "toc_window_display": true
  }
 },
 "nbformat": 4,
 "nbformat_minor": 5
}
