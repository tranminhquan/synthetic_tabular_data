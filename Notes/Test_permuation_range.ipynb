{
 "cells": [
  {
   "cell_type": "code",
   "execution_count": 7,
   "metadata": {},
   "outputs": [
    {
     "name": "stdout",
     "output_type": "stream",
     "text": [
      "n=1 - p=1 - p/n=1.0\n",
      "n=2 - p=3 - p/n=1.5\n",
      "n=3 - p=6 - p/n=2.0\n",
      "n=4 - p=10 - p/n=2.5\n",
      "n=5 - p=15 - p/n=3.0\n",
      "n=6 - p=21 - p/n=3.5\n",
      "n=7 - p=28 - p/n=4.0\n",
      "n=8 - p=36 - p/n=4.5\n",
      "n=9 - p=45 - p/n=5.0\n"
     ]
    }
   ],
   "source": [
    "def cal_lenghts(x):\n",
    "    if x == 1:\n",
    "        return 1\n",
    "    return x + cal_lenghts(x-1)\n",
    "\n",
    "\n",
    "for i in range(1,10):\n",
    "    S = cal_lenghts(i)\n",
    "    print(f\"n={i} - p={S} - p/n={S/i}\")"
   ]
  },
  {
   "cell_type": "markdown",
   "metadata": {},
   "source": [
    "--> "
   ]
  }
 ],
 "metadata": {
  "interpreter": {
   "hash": "76d8e9c6a2b9f4ee2a338cf1f6edebf21988d69e0da173d1ce8e59f735ecba0f"
  },
  "kernelspec": {
   "display_name": "Python 3.8.12 64-bit ('tab': conda)",
   "language": "python",
   "name": "python3"
  },
  "language_info": {
   "codemirror_mode": {
    "name": "ipython",
    "version": 3
   },
   "file_extension": ".py",
   "mimetype": "text/x-python",
   "name": "python",
   "nbconvert_exporter": "python",
   "pygments_lexer": "ipython3",
   "version": "3.8.12"
  },
  "orig_nbformat": 4
 },
 "nbformat": 4,
 "nbformat_minor": 2
}
